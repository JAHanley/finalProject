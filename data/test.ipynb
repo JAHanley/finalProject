{
 "cells": [
  {
   "cell_type": "code",
   "execution_count": null,
   "metadata": {
    "dotnet_interactive": {
     "language": "fsharp"
    }
   },
   "outputs": [
    {
     "ename": "Error",
     "evalue": "input.fsx (27,13)-(27,14) typecheck error The type 'int' does not support the operator 'DivideByInt'",
     "output_type": "error",
     "traceback": [
      "input.fsx (27,13)-(27,14) typecheck error The type 'int' does not support the operator 'DivideByInt'"
     ]
    }
   ],
   "source": [
    "let random = new System.Random()\n",
    "\n",
    "let rec inGroup p_in n =\n",
    "    match n with\n",
    "        | 0 -> 0\n",
    "        | x ->\n",
    "            let rnd = random.NextDouble()\n",
    "            if rnd < p_in then 1 + inGroup p_in (n-1)\n",
    "            else inGroup p_in (n-1)\n",
    "\n",
    "let outGroup = inGroup\n",
    "\n",
    "let expect p_in p_out n q =\n",
    "    (inGroup p_in n/q , outGroup p_out (n-n/q))\n",
    "\n",
    "let num = 15\n",
    "let groups = 5\n",
    "\n",
    "let s = seq {\n",
    "    for _ in 1..100 do\n",
    "        let lst = List.init num (fun _ -> expect 0.5 0.1 (num* groups) groups)\n",
    "        let bad = List.map (fun (a,b) -> a<b) lst\n",
    "        let f = List.sumBy (function | true -> 1 | false -> 0) bad\n",
    "        yield f\n",
    "}\n",
    "\n",
    "Seq.average s"
   ]
  }
 ],
 "metadata": {
  "kernelspec": {
   "display_name": ".NET (C#)",
   "language": "C#",
   "name": ".net-csharp"
  },
  "language_info": {
   "file_extension": ".cs",
   "mimetype": "text/x-csharp",
   "name": "C#",
   "pygments_lexer": "csharp",
   "version": "9.0"
  },
  "orig_nbformat": 4
 },
 "nbformat": 4,
 "nbformat_minor": 2
}
