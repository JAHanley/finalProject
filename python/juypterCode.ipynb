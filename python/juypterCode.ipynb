{
 "cells": [
  {
   "cell_type": "markdown",
   "metadata": {},
   "source": [
    "# Network inference via physics heuristics\n",
    "We are aiming to investigate the information boundaries of community detection via the implementation of physics heuristics.\n",
    "\n",
    "Firstly we will import all the libraries we will be using, most of theses will be standard functions"
   ]
  },
  {
   "cell_type": "code",
   "execution_count": 1,
   "metadata": {},
   "outputs": [],
   "source": [
    "import random as rnd"
   ]
  },
  {
   "cell_type": "markdown",
   "metadata": {},
   "source": [
    "### Stochastic Block Model definition\n",
    "First we use create a class defining our stochastic block model, we will be storing the graph produced as a adjacency list as it will allow us to look up the neighbours of each vertex very quickly which is what we will mostly be doing."
   ]
  },
  {
   "cell_type": "code",
   "execution_count": 2,
   "metadata": {},
   "outputs": [],
   "source": [
    "class SBM:\n",
    "    def __init__(self,c_in, c_out, no_groups, size) -> None:\n",
    "        self.q = no_groups\n",
    "        self.n = size\n",
    "        self.p_in = c_in/size\n",
    "        self.p_out = c_out/size\n",
    "        self.node_groups = dict()\n",
    "\n",
    "    def generate(self) -> None:\n",
    "        adj_list = [[] for i in range(self.n)]\n",
    "        print(adj_list)\n",
    "        for i in range(self.n):\n",
    "            rand = rnd.randint(1,self.q)\n",
    "            self.node_groups[i]=rand\n",
    "\n",
    "        for i in range(self.n):\n",
    "            for j in range(i+1,self.n):\n",
    "                rand = rnd.random()\n",
    "                if(self.node_groups[i] == self.node_groups[j] and rand<=self.p_in):\n",
    "                    adj_list[i].append(j)\n",
    "                    adj_list[j].append(i)\n",
    "                elif(self.node_groups[i] != self.node_groups[j] and rand<= self.p_out):\n",
    "                    adj_list[i].append(j)\n",
    "                    adj_list[j].append(i)\n",
    "\n",
    "        self.adj_list = adj_list"
   ]
  },
  {
   "cell_type": "markdown",
   "metadata": {},
   "source": [
    "## Belief Propagation\n",
    "We will be updating marginals with the following equation corresponding to the marginal that vertex $i$ is in group $r$:\n",
    "$$\n",
    "\\psi_r^i \\propto \\prod_{j;(i,j)\\in E} \\sum_{s=1}^q \\psi_s^{j \\to i}p_{rs} \\\\\n",
    "\\psi_r^{i \\to j} \\propto \\prod_{\\substack{k;(i,k)\\in E \\\\ k\\neq j}} \\sum_{s=1}^q \\psi_s^{k \\to i}p_{rs} \n",
    "$$\n",
    "where $p_{rs}$ is the probability a vertex is in group $r$ while its neighbour is in group $s$. In our cases all these probabilities will be the same.\n",
    "We will start by setting up the starting marginals for each group and vertex to be equal to $0.5 \\pm r\\alpha$ where $\\alpha$ is some constant determining a natural variance and $r$ denotes a random number in the interval $(0,1)$"
   ]
  },
  {
   "cell_type": "code",
   "execution_count": null,
   "metadata": {},
   "outputs": [],
   "source": []
  },
  {
   "cell_type": "code",
   "execution_count": 3,
   "metadata": {},
   "outputs": [
    {
     "name": "stdout",
     "output_type": "stream",
     "text": [
      "[[], [], [], [], [], [], [], [], [], []]\n"
     ]
    }
   ],
   "source": [
    "test= SBM(1,1,2,10)\n",
    "test.generate()"
   ]
  }
 ],
 "metadata": {
  "interpreter": {
   "hash": "31f2aee4e71d21fbe5cf8b01ff0e069b9275f58929596ceb00d14d90e3e16cd6"
  },
  "kernelspec": {
   "display_name": "Python 3.9.7 64-bit",
   "name": "python3"
  },
  "language_info": {
   "codemirror_mode": {
    "name": "ipython",
    "version": 3
   },
   "file_extension": ".py",
   "mimetype": "text/x-python",
   "name": "python",
   "nbconvert_exporter": "python",
   "pygments_lexer": "ipython3",
   "version": "3.9.7"
  },
  "orig_nbformat": 4
 },
 "nbformat": 4,
 "nbformat_minor": 2
}
